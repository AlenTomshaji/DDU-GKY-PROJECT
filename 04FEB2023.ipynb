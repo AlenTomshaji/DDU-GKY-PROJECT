{
 "cells": [
  {
   "cell_type": "markdown",
   "id": "dec2be1d",
   "metadata": {},
   "source": [
    "# BOOLEAN MASK"
   ]
  },
  {
   "cell_type": "code",
   "execution_count": 1,
   "id": "475066c5",
   "metadata": {},
   "outputs": [],
   "source": [
    "import pandas as pd\n",
    "import numpy as np\n",
    "import warnings\n",
    "warnings.filterwarnings('ignore')"
   ]
  },
  {
   "cell_type": "code",
   "execution_count": 2,
   "id": "50667a47",
   "metadata": {},
   "outputs": [
    {
     "data": {
      "text/html": [
       "<div>\n",
       "<style scoped>\n",
       "    .dataframe tbody tr th:only-of-type {\n",
       "        vertical-align: middle;\n",
       "    }\n",
       "\n",
       "    .dataframe tbody tr th {\n",
       "        vertical-align: top;\n",
       "    }\n",
       "\n",
       "    .dataframe thead th {\n",
       "        text-align: right;\n",
       "    }\n",
       "</style>\n",
       "<table border=\"1\" class=\"dataframe\">\n",
       "  <thead>\n",
       "    <tr style=\"text-align: right;\">\n",
       "      <th></th>\n",
       "      <th>show_id</th>\n",
       "      <th>type</th>\n",
       "      <th>title</th>\n",
       "      <th>director</th>\n",
       "      <th>cast</th>\n",
       "      <th>country</th>\n",
       "      <th>date_added</th>\n",
       "      <th>release_year</th>\n",
       "      <th>rating</th>\n",
       "      <th>duration</th>\n",
       "      <th>listed_in</th>\n",
       "      <th>description</th>\n",
       "    </tr>\n",
       "  </thead>\n",
       "  <tbody>\n",
       "    <tr>\n",
       "      <th>0</th>\n",
       "      <td>s1</td>\n",
       "      <td>Movie</td>\n",
       "      <td>Dick Johnson Is Dead</td>\n",
       "      <td>Kirsten Johnson</td>\n",
       "      <td>NaN</td>\n",
       "      <td>United States</td>\n",
       "      <td>September 25, 2021</td>\n",
       "      <td>2020</td>\n",
       "      <td>PG-13</td>\n",
       "      <td>90 min</td>\n",
       "      <td>Documentaries</td>\n",
       "      <td>As her father nears the end of his life, filmm...</td>\n",
       "    </tr>\n",
       "    <tr>\n",
       "      <th>1</th>\n",
       "      <td>s2</td>\n",
       "      <td>TV Show</td>\n",
       "      <td>Blood &amp; Water</td>\n",
       "      <td>NaN</td>\n",
       "      <td>Ama Qamata, Khosi Ngema, Gail Mabalane, Thaban...</td>\n",
       "      <td>South Africa</td>\n",
       "      <td>September 24, 2021</td>\n",
       "      <td>2021</td>\n",
       "      <td>TV-MA</td>\n",
       "      <td>2 Seasons</td>\n",
       "      <td>International TV Shows, TV Dramas, TV Mysteries</td>\n",
       "      <td>After crossing paths at a party, a Cape Town t...</td>\n",
       "    </tr>\n",
       "    <tr>\n",
       "      <th>2</th>\n",
       "      <td>s3</td>\n",
       "      <td>TV Show</td>\n",
       "      <td>Ganglands</td>\n",
       "      <td>Julien Leclercq</td>\n",
       "      <td>Sami Bouajila, Tracy Gotoas, Samuel Jouy, Nabi...</td>\n",
       "      <td>NaN</td>\n",
       "      <td>September 24, 2021</td>\n",
       "      <td>2021</td>\n",
       "      <td>TV-MA</td>\n",
       "      <td>1 Season</td>\n",
       "      <td>Crime TV Shows, International TV Shows, TV Act...</td>\n",
       "      <td>To protect his family from a powerful drug lor...</td>\n",
       "    </tr>\n",
       "    <tr>\n",
       "      <th>3</th>\n",
       "      <td>s4</td>\n",
       "      <td>TV Show</td>\n",
       "      <td>Jailbirds New Orleans</td>\n",
       "      <td>NaN</td>\n",
       "      <td>NaN</td>\n",
       "      <td>NaN</td>\n",
       "      <td>September 24, 2021</td>\n",
       "      <td>2021</td>\n",
       "      <td>TV-MA</td>\n",
       "      <td>1 Season</td>\n",
       "      <td>Docuseries, Reality TV</td>\n",
       "      <td>Feuds, flirtations and toilet talk go down amo...</td>\n",
       "    </tr>\n",
       "    <tr>\n",
       "      <th>4</th>\n",
       "      <td>s5</td>\n",
       "      <td>TV Show</td>\n",
       "      <td>Kota Factory</td>\n",
       "      <td>NaN</td>\n",
       "      <td>Mayur More, Jitendra Kumar, Ranjan Raj, Alam K...</td>\n",
       "      <td>India</td>\n",
       "      <td>September 24, 2021</td>\n",
       "      <td>2021</td>\n",
       "      <td>TV-MA</td>\n",
       "      <td>2 Seasons</td>\n",
       "      <td>International TV Shows, Romantic TV Shows, TV ...</td>\n",
       "      <td>In a city of coaching centers known to train I...</td>\n",
       "    </tr>\n",
       "  </tbody>\n",
       "</table>\n",
       "</div>"
      ],
      "text/plain": [
       "  show_id     type                  title         director  \\\n",
       "0      s1    Movie   Dick Johnson Is Dead  Kirsten Johnson   \n",
       "1      s2  TV Show          Blood & Water              NaN   \n",
       "2      s3  TV Show              Ganglands  Julien Leclercq   \n",
       "3      s4  TV Show  Jailbirds New Orleans              NaN   \n",
       "4      s5  TV Show           Kota Factory              NaN   \n",
       "\n",
       "                                                cast        country  \\\n",
       "0                                                NaN  United States   \n",
       "1  Ama Qamata, Khosi Ngema, Gail Mabalane, Thaban...   South Africa   \n",
       "2  Sami Bouajila, Tracy Gotoas, Samuel Jouy, Nabi...            NaN   \n",
       "3                                                NaN            NaN   \n",
       "4  Mayur More, Jitendra Kumar, Ranjan Raj, Alam K...          India   \n",
       "\n",
       "           date_added  release_year rating   duration  \\\n",
       "0  September 25, 2021          2020  PG-13     90 min   \n",
       "1  September 24, 2021          2021  TV-MA  2 Seasons   \n",
       "2  September 24, 2021          2021  TV-MA   1 Season   \n",
       "3  September 24, 2021          2021  TV-MA   1 Season   \n",
       "4  September 24, 2021          2021  TV-MA  2 Seasons   \n",
       "\n",
       "                                           listed_in  \\\n",
       "0                                      Documentaries   \n",
       "1    International TV Shows, TV Dramas, TV Mysteries   \n",
       "2  Crime TV Shows, International TV Shows, TV Act...   \n",
       "3                             Docuseries, Reality TV   \n",
       "4  International TV Shows, Romantic TV Shows, TV ...   \n",
       "\n",
       "                                         description  \n",
       "0  As her father nears the end of his life, filmm...  \n",
       "1  After crossing paths at a party, a Cape Town t...  \n",
       "2  To protect his family from a powerful drug lor...  \n",
       "3  Feuds, flirtations and toilet talk go down amo...  \n",
       "4  In a city of coaching centers known to train I...  "
      ]
     },
     "execution_count": 2,
     "metadata": {},
     "output_type": "execute_result"
    }
   ],
   "source": [
    "import pandas as pd\n",
    "df=pd.read_csv('netflix_titles_2021.csv')\n",
    "#print(df)\n",
    "df.head(5)"
   ]
  },
  {
   "cell_type": "code",
   "execution_count": 3,
   "id": "5008ad31",
   "metadata": {},
   "outputs": [
    {
     "data": {
      "text/plain": [
       "0    1\n",
       "7    8\n",
       "8    9\n",
       "dtype: int64"
      ]
     },
     "execution_count": 3,
     "metadata": {},
     "output_type": "execute_result"
    }
   ],
   "source": [
    "twopower=pd.Series([1,2,3,4,5,6,7,8,9])\n",
    "bm=[True,False,False,False,False,False,False,True,True]\n",
    "twopower[bm]"
   ]
  },
  {
   "cell_type": "code",
   "execution_count": 4,
   "id": "5bdf5919",
   "metadata": {},
   "outputs": [
    {
     "data": {
      "text/plain": [
       "1    2\n",
       "3    4\n",
       "5    6\n",
       "7    8\n",
       "dtype: int64"
      ]
     },
     "execution_count": 4,
     "metadata": {},
     "output_type": "execute_result"
    }
   ],
   "source": [
    "bm=twopower%2==0\n",
    "twopower[bm]"
   ]
  },
  {
   "cell_type": "markdown",
   "id": "de851e6b",
   "metadata": {},
   "source": [
    "# count of movies released in 2020 for each country"
   ]
  },
  {
   "cell_type": "code",
   "execution_count": 5,
   "id": "c1c593a5",
   "metadata": {},
   "outputs": [],
   "source": [
    "bm=df.release_year==2020"
   ]
  },
  {
   "cell_type": "code",
   "execution_count": 6,
   "id": "80cd43d1",
   "metadata": {},
   "outputs": [
    {
     "data": {
      "text/plain": [
       "United States                             336\n",
       "India                                      75\n",
       "United Kingdom                             44\n",
       "South Korea                                28\n",
       "Canada                                     26\n",
       "                                         ... \n",
       "Germany, Czech Republic                     1\n",
       "United States, Bulgaria                     1\n",
       "United Kingdom, France, Germany, Spain      1\n",
       "Thailand, United States                     1\n",
       "United States, South Korea, China           1\n",
       "Name: country, Length: 107, dtype: int64"
      ]
     },
     "execution_count": 6,
     "metadata": {},
     "output_type": "execute_result"
    }
   ],
   "source": [
    "df[bm].country.value_counts()"
   ]
  },
  {
   "cell_type": "code",
   "execution_count": 7,
   "id": "59134d14",
   "metadata": {},
   "outputs": [],
   "source": [
    "df1=df.dropna(subset=['rating'])"
   ]
  },
  {
   "cell_type": "code",
   "execution_count": 8,
   "id": "78177f88",
   "metadata": {},
   "outputs": [
    {
     "data": {
      "text/plain": [
       "array(['PG-13', 'TV-MA', 'PG', 'TV-14', 'TV-PG', 'TV-Y', 'TV-Y7', 'R',\n",
       "       'TV-G', 'G', 'NC-17', '74 min', '84 min', '66 min', 'NR',\n",
       "       'TV-Y7-FV', 'UR'], dtype=object)"
      ]
     },
     "execution_count": 8,
     "metadata": {},
     "output_type": "execute_result"
    }
   ],
   "source": [
    "df1.rating.unique()"
   ]
  },
  {
   "cell_type": "code",
   "execution_count": 9,
   "id": "48e4c7a8",
   "metadata": {},
   "outputs": [
    {
     "data": {
      "text/plain": [
       "TV-MA    469\n",
       "TV-14    174\n",
       "TV-PG     80\n",
       "TV-Y      59\n",
       "R         48\n",
       "TV-G      45\n",
       "TV-Y7     41\n",
       "PG-13     21\n",
       "PG        15\n",
       "G          1\n",
       "Name: rating, dtype: int64"
      ]
     },
     "execution_count": 9,
     "metadata": {},
     "output_type": "execute_result"
    }
   ],
   "source": [
    "df[bm].rating.value_counts()"
   ]
  },
  {
   "cell_type": "code",
   "execution_count": 10,
   "id": "20f8510d",
   "metadata": {},
   "outputs": [],
   "source": [
    "bm=df.rating==\"TV-PG\""
   ]
  },
  {
   "cell_type": "code",
   "execution_count": 11,
   "id": "4255333e",
   "metadata": {},
   "outputs": [
    {
     "data": {
      "text/plain": [
       "2017    111\n",
       "2018    105\n",
       "2019     98\n",
       "2016     97\n",
       "2020     80\n",
       "2015     63\n",
       "2014     47\n",
       "2021     45\n",
       "2013     29\n",
       "2012     23\n",
       "2010     20\n",
       "2011     18\n",
       "2009     16\n",
       "2004     10\n",
       "2006     10\n",
       "2005     10\n",
       "2008      9\n",
       "1988      6\n",
       "2007      6\n",
       "2000      5\n",
       "1943      3\n",
       "2003      3\n",
       "1960      2\n",
       "1979      2\n",
       "1999      2\n",
       "1977      2\n",
       "1995      2\n",
       "1989      2\n",
       "1962      2\n",
       "1992      2\n",
       "1994      2\n",
       "1998      2\n",
       "2002      2\n",
       "1996      2\n",
       "1976      2\n",
       "1982      2\n",
       "1993      2\n",
       "2001      2\n",
       "1946      1\n",
       "1947      1\n",
       "1944      1\n",
       "1970      1\n",
       "1955      1\n",
       "1974      1\n",
       "1990      1\n",
       "1981      1\n",
       "1978      1\n",
       "1980      1\n",
       "1975      1\n",
       "1972      1\n",
       "1991      1\n",
       "1997      1\n",
       "1987      1\n",
       "1969      1\n",
       "1966      1\n",
       "Name: release_year, dtype: int64"
      ]
     },
     "execution_count": 11,
     "metadata": {},
     "output_type": "execute_result"
    }
   ],
   "source": [
    "df[bm].release_year.value_counts()"
   ]
  },
  {
   "cell_type": "markdown",
   "id": "ec322439",
   "metadata": {},
   "source": [
    "# ##Number of countries which released shows on August 27, 2021"
   ]
  },
  {
   "cell_type": "code",
   "execution_count": 21,
   "id": "dbea7835",
   "metadata": {},
   "outputs": [],
   "source": [
    "bm=df.date_added==\"September 24, 2021\""
   ]
  },
  {
   "cell_type": "code",
   "execution_count": 22,
   "id": "a15aa58f",
   "metadata": {},
   "outputs": [
    {
     "data": {
      "text/plain": [
       "South Africa                                                             1\n",
       "India                                                                    1\n",
       "United States, Ghana, Burkina Faso, United Kingdom, Germany, Ethiopia    1\n",
       "United Kingdom                                                           1\n",
       "United States                                                            1\n",
       "Name: country, dtype: int64"
      ]
     },
     "execution_count": 22,
     "metadata": {},
     "output_type": "execute_result"
    }
   ],
   "source": [
    "df[bm].country.value_counts()\n"
   ]
  },
  {
   "cell_type": "code",
   "execution_count": null,
   "id": "e4829482",
   "metadata": {},
   "outputs": [],
   "source": []
  }
 ],
 "metadata": {
  "kernelspec": {
   "display_name": "Python 3 (ipykernel)",
   "language": "python",
   "name": "python3"
  },
  "language_info": {
   "codemirror_mode": {
    "name": "ipython",
    "version": 3
   },
   "file_extension": ".py",
   "mimetype": "text/x-python",
   "name": "python",
   "nbconvert_exporter": "python",
   "pygments_lexer": "ipython3",
   "version": "3.9.13"
  }
 },
 "nbformat": 4,
 "nbformat_minor": 5
}
